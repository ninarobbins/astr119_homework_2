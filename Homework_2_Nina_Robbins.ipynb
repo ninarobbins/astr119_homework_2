{
 "cells": [
  {
   "cell_type": "code",
   "execution_count": null,
   "metadata": {},
   "outputs": [],
   "source": [
    "import numpy as np\n",
    "import matplotlib.pyplot as plt\n",
    "%matplotlib inline\n",
    "\n",
    "\n",
    "x = np.linspace(0,2*(np.pi), num = 1000) #creates array with 1000 values in range (0, 2*pi)\n",
    "type(x)"
   ]
  },
  {
   "cell_type": "code",
   "execution_count": null,
   "metadata": {},
   "outputs": [],
   "source": [
    "plt.xlabel('Time in ASTR/EART 119')\n",
    "plt.ylabel('Measures of Awesomeness')\n",
    "\n",
    "plt.xlim(0, 2*(np.pi))\n",
    "plt.ylim(-1,10)\n",
    "\n",
    "x = np.linspace(0,2*(np.pi), num = 1000)\n",
    "\n",
    "y1 = 5.5 * np.cos(2 * x) + 5.5\n",
    "y2 = 0.02 * np.exp(x)\n",
    "y3 = 0.25 * (x**2) + 0.1 * np.sin(10*x)\n",
    "\n",
    "plt.plot(x,y1, label = 'y1')\n",
    "plt.plot(x,y2, label = 'y2')\n",
    "plt.plot(x,y3, label = 'y3')\n",
    "\n",
    "plt.legend(loc='upper left')"
   ]
  },
  {
   "cell_type": "code",
   "execution_count": null,
   "metadata": {},
   "outputs": [],
   "source": []
  }
 ],
 "metadata": {
  "kernelspec": {
   "display_name": "Python 3",
   "language": "python",
   "name": "python3"
  },
  "language_info": {
   "codemirror_mode": {
    "name": "ipython",
    "version": 3
   },
   "file_extension": ".py",
   "mimetype": "text/x-python",
   "name": "python",
   "nbconvert_exporter": "python",
   "pygments_lexer": "ipython3",
   "version": "3.6.5"
  }
 },
 "nbformat": 4,
 "nbformat_minor": 2
}
